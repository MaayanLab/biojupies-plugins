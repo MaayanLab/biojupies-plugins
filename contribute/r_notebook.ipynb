{
 "cells": [
  {
   "cell_type": "markdown",
   "metadata": {
    "collapsed": true
   },
   "source": [
    "# Contribute a BioJupies Plugin | R\n",
    "## Overview\n",
    "This notebook contains instructions for the submission of BioJupies RNA-seq data analysis plugins in R.\n",
    "\n",
    "To submit your plugin, complete the following three steps:\n",
    "1. Add code to the **`analyze`** function.\n",
    "2. Add code to the **`plot`** function.\n",
    "3. **Test the code** using our example datasets, or use your own data.\n",
    "\n",
    "<div style=\"text-align: left;\">\n",
    "<img src=\"data/workflow.png\">\n",
    "</div>\n",
    "\n",
    "\n",
    "## 1. `analyze`\n",
    "The goal of the `analyze` function is to analyze an **RNA-seq dataset or signature** using one or more computational tools or techniques, and return the results of such analysis in an R data structure."
   ]
  },
  {
   "cell_type": "code",
   "execution_count": 1,
   "metadata": {},
   "outputs": [],
   "source": [
    "# Analysis function\n",
    "analyze <- function(dataset) {\n",
    "    print('Analyzing the dataset...')\n",
    "    return('')\n",
    "}"
   ]
  },
  {
   "cell_type": "markdown",
   "metadata": {},
   "source": [
    "## 2. `plot`\n",
    "The goal of the `plot` function is to **visualize the results of the `analyze` function** in the Jupyter Notebook by using a plot, interactive visualization, or embedding downloadable results in the notebook itself."
   ]
  },
  {
   "cell_type": "code",
   "execution_count": 2,
   "metadata": {},
   "outputs": [],
   "source": [
    "# Plot function\n",
    "plot <- function(analysis_results) {\n",
    "    print('Displaying analysis results...')   \n",
    "}"
   ]
  },
  {
   "cell_type": "markdown",
   "metadata": {},
   "source": [
    "## 3. Test the Plugin\n",
    "Once the `analyze` and `plot` functions have been completed, you can test them using the cells below."
   ]
  },
  {
   "cell_type": "code",
   "execution_count": 3,
   "metadata": {},
   "outputs": [],
   "source": [
    "# Read the dataset\n",
    "example_dataset <- read.table('data/example_dataset.txt', header=TRUE, row.names=1)\n",
    "\n",
    "# Read the metadata\n",
    "example_metadata <- read.table('data/example_metadata.txt', header=TRUE, row.names=1)\n",
    "\n",
    "# Read the signature\n",
    "example_signature <- read.table('data/example_signature.txt', header=TRUE, row.names=1)"
   ]
  },
  {
   "cell_type": "code",
   "execution_count": 4,
   "metadata": {},
   "outputs": [
    {
     "name": "stdout",
     "output_type": "stream",
     "text": [
      "[1] \"Analyzing the dataset...\"\n"
     ]
    }
   ],
   "source": [
    "# Analyze the data\n",
    "results <- analyze(dataset=example_dataset)"
   ]
  },
  {
   "cell_type": "code",
   "execution_count": 5,
   "metadata": {},
   "outputs": [
    {
     "name": "stdout",
     "output_type": "stream",
     "text": [
      "[1] \"Displaying analysis results...\"\n"
     ]
    }
   ],
   "source": [
    "# Plot the results\n",
    "plot(results)"
   ]
  },
  {
   "cell_type": "code",
   "execution_count": null,
   "metadata": {
    "collapsed": true
   },
   "outputs": [],
   "source": []
  }
 ],
 "metadata": {
  "kernelspec": {
   "display_name": "R",
   "language": "R",
   "name": "ir"
  },
  "language_info": {
   "codemirror_mode": "r",
   "file_extension": ".r",
   "mimetype": "text/x-r-source",
   "name": "R",
   "pygments_lexer": "r",
   "version": "3.4.3"
  }
 },
 "nbformat": 4,
 "nbformat_minor": 2
}
